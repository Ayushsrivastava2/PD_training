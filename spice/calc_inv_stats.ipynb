{
 "cells": [
  {
   "cell_type": "code",
   "execution_count": 1,
   "metadata": {},
   "outputs": [
    {
     "name": "stdout",
     "output_type": "stream",
     "text": [
      "abcd\n"
     ]
    }
   ],
   "source": [
    "print('abcd')"
   ]
  },
  {
   "cell_type": "code",
   "execution_count": 1,
   "metadata": {},
   "outputs": [
    {
     "name": "stdout",
     "output_type": "stream",
     "text": [
      "+-----+------+------+------+-------------+------------+\n",
      "|  wp |  vm  | vil  | vih  |     vol     |    voh     |\n",
      "+-----+------+------+------+-------------+------------+\n",
      "|  37 | 1.33 | 0.96 | 1.48 | 0.243430731 | 3.13616532 |\n",
      "| 117 | 1.6  | 1.35 | 1.81 | 0.239540941 | 3.02077689 |\n",
      "| 197 | 1.73 | 1.52 | 1.97 | 0.197538491 | 3.02188905 |\n",
      "| 277 | 1.8  | 1.62 | 2.06 | 0.171349188 | 3.03557396 |\n",
      "+-----+------+------+------+-------------+------------+\n"
     ]
    }
   ],
   "source": [
    "import copy\n",
    "import glob\n",
    "from prettytable import PrettyTable\n",
    "\n",
    "def check_noise_margin(wp):\n",
    "    a=[[float(i) for i in l.split()] for l in open(f'Y_wp{wp}.out','r').readlines()]\n",
    "    yop={x:y for x,y in a}\n",
    "    b = [[float(i) for i in l.split()] for l in open(f'deriv_Y_wp{wp}.out','r').readlines()]\n",
    "    c= copy.deepcopy(a)\n",
    "    c.sort(key=lambda x: abs(x[0]-x[1]))\n",
    "    vm=c[0][0]\n",
    "    nm=[(x,y) for x,y in b if y<=-1]\n",
    "    vil,vih=nm[0][0],nm[-1][0]\n",
    "    voh,vol=yop[vil],yop[vih]\n",
    "    return (wp,vm,vil,vih,vol,voh)\n",
    "table=[['wp','vm','vil','vih','vol','voh']]\n",
    "for wp in [37,117,197,277]: table.append(check_noise_margin(wp))\n",
    "tableT=list(zip(*table))\n",
    "# print(tableT)\n",
    "pt=PrettyTable(table[0])\n",
    "pt.add_rows(table[1:])\n",
    "print(pt)"
   ]
  },
  {
   "cell_type": "code",
   "execution_count": 36,
   "metadata": {},
   "outputs": [
    {
     "name": "stdout",
     "output_type": "stream",
     "text": [
      "2.8005e-09 4.4005e-09\n",
      "+-----+------------------------+------------------------+-----------------------+------------------------+\n",
      "|  wp |       rise_delay       |       rise_slew        |       fall_delay      |       fall_slew        |\n",
      "+-----+------------------------+------------------------+-----------------------+------------------------+\n",
      "|  37 | 1.5499999999999998e-10 | 8.000000000000014e-11  |  5.49999999999995e-11 | 5.099999999999993e-11  |\n",
      "| 117 | 7.899999999999983e-11  | 4.400000000000026e-11  | 7.300000000000006e-11 | 4.7000000000000355e-11 |\n",
      "| 197 | 5.300000000000013e-11  | 3.699999999999977e-11  | 8.299999999999982e-11 | 4.400000000000026e-11  |\n",
      "| 277 | 3.8000000000000076e-11 | 3.3000000000000196e-11 | 9.099999999999979e-11 | 4.300000000000078e-11  |\n",
      "+-----+------------------------+------------------------+-----------------------+------------------------+\n"
     ]
    }
   ],
   "source": [
    "# 70% to 30% for slew calculation\n",
    "vul,vll,vmd=3.3*0.7,3.3*0.3,3.3/2\n",
    "Awf=[[float(i) for i in l.split()] for l in open(f'tr_A.out','r').readlines()]\n",
    "arise=[t for i,(t,v) in enumerate(Awf[1:-1]) if Awf[i][1]-vmd < 0 and Awf[i+1][1] -vmd >=0]\n",
    "afall=[t for i,(t,v) in enumerate(Awf[1:-1]) if Awf[i][1]-vmd > 0 and Awf[i+1][1] -vmd <=0]\n",
    "a_rise_time=arise[-1]\n",
    "a_fall_time=afall[0]\n",
    "print(a_fall_time,a_rise_time)\n",
    "def calc_delay_slew(wp):\n",
    "    yop=[[float(i) for i in l.split()] for l in open(f'tr_Y_wp{wp}.out','r').readlines()][1000:]\n",
    "    y_rise_time=[t for i,(t,v) in enumerate(yop[1:-1]) if yop[i][1]-vmd < 0 and yop[i+1][1] -vmd >=0][0]\n",
    "    y_fall_time=[t for i,(t,v) in enumerate(yop[1:-1]) if yop[i][1]-vmd > 0 and yop[i+1][1] -vmd <=0][-1]\n",
    "    rise_delay=y_rise_time-a_fall_time\n",
    "    fall_delay=y_fall_time-a_rise_time\n",
    "    check_vll = [(t,v>=vll) for t,v in yop]\n",
    "    check_vul=[(t,v<=vul) for t,v in yop]\n",
    "    for i,(t,v) in enumerate(yop):\n",
    "        if i==0: continue\n",
    "        if check_vll[i][1] and (not check_vll[i-1][1]) and check_vul[i][1] and check_vul[i-1][1]: rise_start_time=t\n",
    "        if check_vll[i][1] and check_vll[i-1][1] and (not check_vul[i][1]) and check_vul[i-1][1]: rise_end_time=t\n",
    "        if check_vll[i][1] and check_vll[i-1][1] and check_vul[i][1] and (not check_vul[i-1][1]): fall_start_time=t\n",
    "        if (not check_vll[i][1]) and check_vll[i-1][1] and check_vul[i][1] and check_vul[i-1][1]: fall_end_time=t\n",
    "    rise_slew = rise_end_time - rise_start_time\n",
    "    fall_slew = fall_end_time - fall_start_time\n",
    "    return wp,rise_delay,rise_slew,fall_delay,fall_slew\n",
    "\n",
    "table=[['wp','rise_delay','rise_slew','fall_delay','fall_slew']]\n",
    "for wp in [37,117,197,277]: table.append(calc_delay_slew(wp))\n",
    "pt=PrettyTable(table[0])\n",
    "pt.add_rows(table[1:])\n",
    "print(pt)\n"
   ]
  },
  {
   "cell_type": "code",
   "execution_count": 20,
   "metadata": {},
   "outputs": [
    {
     "data": {
      "text/plain": [
       "1.65"
      ]
     },
     "execution_count": 20,
     "metadata": {},
     "output_type": "execute_result"
    }
   ],
   "source": [
    "3.3/2"
   ]
  },
  {
   "cell_type": "code",
   "execution_count": null,
   "metadata": {},
   "outputs": [],
   "source": []
  }
 ],
 "metadata": {
  "kernelspec": {
   "display_name": "Python 3",
   "language": "python",
   "name": "python3"
  },
  "language_info": {
   "codemirror_mode": {
    "name": "ipython",
    "version": 3
   },
   "file_extension": ".py",
   "mimetype": "text/x-python",
   "name": "python",
   "nbconvert_exporter": "python",
   "pygments_lexer": "ipython3",
   "version": "3.6.9"
  }
 },
 "nbformat": 4,
 "nbformat_minor": 2
}
